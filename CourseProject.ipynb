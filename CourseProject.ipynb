{
 "cells": [
  {
   "cell_type": "code",
   "execution_count": 1,
   "metadata": {},
   "outputs": [
    {
     "name": "stderr",
     "output_type": "stream",
     "text": [
      "Using Theano backend.\n"
     ]
    }
   ],
   "source": [
    "import pandas as pd\n",
    "import numpy as np\n",
    "\n",
    "from nltk.corpus import stopwords\n",
    "from nltk import WordNetLemmatizer\n",
    "import re, unicodedata, zipfile, os\n",
    "from collections import Counter\n",
    "\n",
    "from sklearn.feature_extraction.text import CountVectorizer\n",
    "from sklearn.model_selection import StratifiedKFold\n",
    "from sklearn.model_selection  import train_test_split\n",
    "from sklearn.preprocessing import LabelEncoder\n",
    "\n",
    "from keras.utils import np_utils\n",
    "from keras.models import Sequential\n",
    "from keras import layers\n",
    "from keras.preprocessing.text import Tokenizer\n",
    "from keras.preprocessing.sequence import pad_sequences\n",
    "from sklearn.metrics import precision_score, recall_score, f1_score, confusion_matrix\n",
    "\n",
    "import matplotlib.pyplot as plt\n",
    "plt.style.use('ggplot')\n",
    "import random as rn\n",
    "\n",
    "from gensim.models import KeyedVectors\n",
    "from collections import Counter\n",
    "import itertools"
   ]
  },
  {
   "cell_type": "code",
   "execution_count": 2,
   "metadata": {},
   "outputs": [],
   "source": [
    "def train_test_split(X, y, test_size, random_state=42, shuffle=False):\n",
    "    test_indexes, train_indexes = [], []\n",
    "    np.random.seed(random_state)\n",
    "    for class_ in np.unique(y):    \n",
    "        N = y[y == class_].value_counts().values[0]\n",
    "        part = int(round(N * test_size))\n",
    "\n",
    "        full_indexes = np.array(y[y == class_].index)\n",
    "        low = full_indexes.min()\n",
    "        high = full_indexes.max()\n",
    "\n",
    "        temp = np.random.randint(low, high, part)\n",
    "        test_indexes.extend(temp)\n",
    "\n",
    "        temp = np.delete(full_indexes, test_indexes)\n",
    "        train_indexes.extend(temp)\n",
    "        \n",
    "    if shuffle is True:\n",
    "        np.random.shuffle(train_indexes)\n",
    "        np.random.shuffle(test_indexes)\n",
    "        \n",
    "    X_train = X.iloc[train_indexes]\n",
    "    y_train = y.iloc[train_indexes]\n",
    "    X_test = X.iloc[test_indexes]\n",
    "    y_test = y.iloc[test_indexes]\n",
    "    return X_train, X_test, y_train, y_test"
   ]
  },
  {
   "cell_type": "markdown",
   "metadata": {},
   "source": [
    "## Generating and preprocessing data\n",
    "Books are read from zip-files, text is cleaned from stop-words and lemmatized with nltk.WordNetLemmatizer()"
   ]
  },
  {
   "cell_type": "code",
   "execution_count": 3,
   "metadata": {},
   "outputs": [],
   "source": [
    "def generate_dataframe(folders, root):\n",
    "    data = pd.DataFrame()\n",
    "    for folder in folders:\n",
    "        path = root+'/'+folder\n",
    "        data = data.append(pd.DataFrame({'text': read_zip_files(path), 'target':folder}), ignore_index=True)\n",
    "    return data\n",
    "\n",
    "def read_zip_files(path):\n",
    "    text_list = []\n",
    "    for archive in os.listdir(path):\n",
    "        file = zipfile.ZipFile(path+'/'+archive)\n",
    "        b_text = file.open(file.namelist()[0]).readlines()\n",
    "        text_list.append(b_text)\n",
    "    return text_list\n",
    "\n",
    "def decoding(text):\n",
    "    decoded = [row.decode(\"utf-8\", errors='ignore').splitlines() for row in text]\n",
    "    splited = [[' '.join(item.split())] for row in decoded for item in row]\n",
    "    cleaned = [row for row in splited if row != ['']]\n",
    "    return cleaned\n",
    "\n",
    "def cleaning(text):\n",
    "    cleaned_text = re.sub(r\"[^a-z ]\", \" \", text.lower())\n",
    "    return cleaned_text\n",
    "\n",
    "def stop_words(row):\n",
    "    stop = stopwords.words('english')\n",
    "    new_row = [word for word in row if word not in stop]\n",
    "    return new_row\n",
    "\n",
    "def ascii_cleaning(row):\n",
    "    new_row = [unicodedata.normalize('NFKD', word).encode('ascii', 'ignore').decode('utf-8', 'ignore') for word in row]\n",
    "    return new_row\n",
    "\n",
    "def lemmatization(row):\n",
    "    lemmatizer = WordNetLemmatizer()\n",
    "    new_row = [lemmatizer.lemmatize(word, pos='v') for word in row]\n",
    "    return new_row\n",
    "\n",
    "def list_to_text(text):\n",
    "    new_text = [' '.join(row) for row in text]\n",
    "    return ' '.join(new_text)\n",
    "\n",
    "def delete_words(df):\n",
    "    df['text'] = df['text'].apply(lambda document: list(filter(lambda word: re.fullmatch(r'[a-z]{2,}', word), document)))\n",
    "    \n",
    "def split_for_bayes(df):\n",
    "    df['text'] = df['text'].apply(lambda x: x.split())\n",
    "    return\n",
    "\n",
    "def preproc(df):\n",
    "    df['text'] = df['text'].apply(lambda x: decoding(x))\n",
    "    df['text'] = df['text'].apply(lambda x: [cleaning(row[0]) for row in x])\n",
    "    df['text'] = df['text'].apply(lambda x: [stop_words(list(row.split())) for row in x])\n",
    "    df['text'] = df['text'].apply(lambda x: [ascii_cleaning(row) for row in x])\n",
    "    df['text'] = df['text'].apply(lambda x: [lemmatization(row) for row in x])\n",
    "    df['text'] = df['text'].apply(lambda x: list_to_text(x))"
   ]
  },
  {
   "cell_type": "code",
   "execution_count": 4,
   "metadata": {},
   "outputs": [],
   "source": [
    "root_folder = 'data/zip'\n",
    "data = generate_dataframe(os.listdir(root_folder), root_folder)\n",
    "preproc(data)"
   ]
  },
  {
   "cell_type": "markdown",
   "metadata": {},
   "source": [
    "DataFrame is splited to X and y"
   ]
  },
  {
   "cell_type": "code",
   "execution_count": 5,
   "metadata": {},
   "outputs": [],
   "source": [
    "X = data['text']\n",
    "y = data['target']"
   ]
  },
  {
   "cell_type": "markdown",
   "metadata": {},
   "source": [
    "Classes that I used:"
   ]
  },
  {
   "cell_type": "code",
   "execution_count": 7,
   "metadata": {},
   "outputs": [
    {
     "name": "stdout",
     "output_type": "stream",
     "text": [
      "drama\n",
      "erotic\n",
      "religion\n",
      "songs\n",
      "teacher\n"
     ]
    }
   ],
   "source": [
    "for c in np.unique(y):\n",
    "    print(c)"
   ]
  },
  {
   "cell_type": "markdown",
   "metadata": {},
   "source": [
    "## Preparing data for Neural Network"
   ]
  },
  {
   "cell_type": "markdown",
   "metadata": {},
   "source": [
    "One-hot encoding for y-vector"
   ]
  },
  {
   "cell_type": "code",
   "execution_count": 8,
   "metadata": {},
   "outputs": [],
   "source": [
    "sentences_train, sentences_test, y_train, y_test = train_test_split(X, y, test_size=0.2, random_state=1110, shuffle=True)\n",
    "encoder = LabelEncoder()\n",
    "encoder.fit(y)\n",
    "encoded_Y = encoder.transform(y_train)\n",
    "y_train = np_utils.to_categorical(encoded_Y)\n",
    "encoded_Y = encoder.transform(y_test)\n",
    "\n",
    "y_test = np_utils.to_categorical(encoded_Y)"
   ]
  },
  {
   "cell_type": "markdown",
   "metadata": {},
   "source": [
    "Now prepare X-matrix, converting text to word vectors"
   ]
  },
  {
   "cell_type": "code",
   "execution_count": 9,
   "metadata": {},
   "outputs": [],
   "source": [
    "tokenizer = Tokenizer(num_words=70000)\n",
    "tokenizer.fit_on_texts(X)\n",
    "\n",
    "X_train = tokenizer.texts_to_sequences(sentences_train)\n",
    "X_test = tokenizer.texts_to_sequences(sentences_test)\n",
    "\n",
    "vocab_size = len(tokenizer.word_index) + 1\n",
    "embedding_dim = 200\n",
    "maxlen = 5000\n",
    "\n",
    "X_train = pad_sequences(X_train, padding='post', maxlen=maxlen)\n",
    "X_test = pad_sequences(X_test, padding='post', maxlen=maxlen)"
   ]
  },
  {
   "cell_type": "code",
   "execution_count": 10,
   "metadata": {},
   "outputs": [],
   "source": [
    "def dnn():\n",
    "    model = Sequential()\n",
    "    model.add(layers.Embedding(input_dim=vocab_size, \n",
    "                               output_dim=embedding_dim, \n",
    "                               input_length=maxlen))\n",
    "    model.add(layers.GlobalMaxPool1D())\n",
    "    model.add(layers.Dense(200, activation='relu'))\n",
    "    model.add(layers.Dense(5, activation='softmax'))\n",
    "    model.compile(optimizer='adam',\n",
    "                  loss='categorical_crossentropy',\n",
    "                  metrics=['accuracy'])#, precision, recall, f1])\n",
    "    model.summary()\n",
    "    return model"
   ]
  },
  {
   "cell_type": "code",
   "execution_count": 11,
   "metadata": {},
   "outputs": [
    {
     "name": "stdout",
     "output_type": "stream",
     "text": [
      "_________________________________________________________________\n",
      "Layer (type)                 Output Shape              Param #   \n",
      "=================================================================\n",
      "embedding_1 (Embedding)      (None, 5000, 200)         11264200  \n",
      "_________________________________________________________________\n",
      "global_max_pooling1d_1 (Glob (None, 200)               0         \n",
      "_________________________________________________________________\n",
      "dense_1 (Dense)              (None, 200)               40200     \n",
      "_________________________________________________________________\n",
      "dense_2 (Dense)              (None, 5)                 1005      \n",
      "=================================================================\n",
      "Total params: 11,305,405\n",
      "Trainable params: 11,305,405\n",
      "Non-trainable params: 0\n",
      "_________________________________________________________________\n"
     ]
    }
   ],
   "source": [
    "model = dnn()"
   ]
  },
  {
   "cell_type": "code",
   "execution_count": 12,
   "metadata": {},
   "outputs": [
    {
     "name": "stdout",
     "output_type": "stream",
     "text": [
      "Train on 77 samples, validate on 20 samples\n",
      "Epoch 1/25\n",
      "77/77 [==============================] - 5s 68ms/step - loss: 1.5729 - acc: 0.2727 - val_loss: 1.5784 - val_acc: 0.2500\n",
      "Epoch 2/25\n",
      "77/77 [==============================] - 5s 65ms/step - loss: 1.5058 - acc: 0.2987 - val_loss: 1.5652 - val_acc: 0.2500\n",
      "Epoch 3/25\n",
      "77/77 [==============================] - 5s 70ms/step - loss: 1.4627 - acc: 0.2987 - val_loss: 1.5534 - val_acc: 0.2500\n",
      "Epoch 4/25\n",
      "77/77 [==============================] - 5s 67ms/step - loss: 1.4313 - acc: 0.5844 - val_loss: 1.5556 - val_acc: 0.2500\n",
      "Epoch 5/25\n",
      "77/77 [==============================] - 5s 66ms/step - loss: 1.4133 - acc: 0.3766 - val_loss: 1.5508 - val_acc: 0.2500\n",
      "Epoch 6/25\n",
      "77/77 [==============================] - 5s 67ms/step - loss: 1.3847 - acc: 0.5065 - val_loss: 1.5369 - val_acc: 0.5000\n",
      "Epoch 7/25\n",
      "77/77 [==============================] - 5s 71ms/step - loss: 1.3574 - acc: 0.6234 - val_loss: 1.5144 - val_acc: 0.5000\n",
      "Epoch 8/25\n",
      "77/77 [==============================] - 5s 64ms/step - loss: 1.3076 - acc: 0.6234 - val_loss: 1.4663 - val_acc: 0.5000\n",
      "Epoch 9/25\n",
      "77/77 [==============================] - 5s 68ms/step - loss: 1.2565 - acc: 0.6234 - val_loss: 1.4116 - val_acc: 0.5000\n",
      "Epoch 10/25\n",
      "77/77 [==============================] - 5s 66ms/step - loss: 1.1835 - acc: 0.6234 - val_loss: 1.3647 - val_acc: 0.5000\n",
      "Epoch 11/25\n",
      "77/77 [==============================] - 5s 68ms/step - loss: 1.0988 - acc: 0.6234 - val_loss: 1.3037 - val_acc: 0.5000\n",
      "Epoch 12/25\n",
      "77/77 [==============================] - 5s 67ms/step - loss: 0.9989 - acc: 0.6234 - val_loss: 1.2188 - val_acc: 0.5000\n",
      "Epoch 13/25\n",
      "77/77 [==============================] - 5s 62ms/step - loss: 0.8931 - acc: 0.6623 - val_loss: 1.1507 - val_acc: 0.5000\n",
      "Epoch 14/25\n",
      "77/77 [==============================] - 5s 68ms/step - loss: 0.7797 - acc: 0.8052 - val_loss: 1.0607 - val_acc: 0.6500\n",
      "Epoch 15/25\n",
      "77/77 [==============================] - 5s 65ms/step - loss: 0.6693 - acc: 0.9351 - val_loss: 0.9664 - val_acc: 0.7000\n",
      "Epoch 16/25\n",
      "77/77 [==============================] - 6s 72ms/step - loss: 0.5687 - acc: 0.9351 - val_loss: 0.8738 - val_acc: 0.8000\n",
      "Epoch 17/25\n",
      "77/77 [==============================] - 6s 74ms/step - loss: 0.4741 - acc: 0.9351 - val_loss: 0.8225 - val_acc: 0.8000\n",
      "Epoch 18/25\n",
      "77/77 [==============================] - 5s 65ms/step - loss: 0.3960 - acc: 0.9481 - val_loss: 0.7383 - val_acc: 0.8500\n",
      "Epoch 19/25\n",
      "77/77 [==============================] - 5s 64ms/step - loss: 0.3211 - acc: 0.9481 - val_loss: 0.6913 - val_acc: 0.8500\n",
      "Epoch 20/25\n",
      "77/77 [==============================] - 6s 75ms/step - loss: 0.2670 - acc: 0.9481 - val_loss: 0.6376 - val_acc: 0.8500\n",
      "Epoch 21/25\n",
      "77/77 [==============================] - 5s 63ms/step - loss: 0.2187 - acc: 0.9481 - val_loss: 0.6083 - val_acc: 0.8500\n",
      "Epoch 22/25\n",
      "77/77 [==============================] - 5s 65ms/step - loss: 0.1823 - acc: 0.9481 - val_loss: 0.5615 - val_acc: 0.8500\n",
      "Epoch 23/25\n",
      "77/77 [==============================] - 5s 64ms/step - loss: 0.1520 - acc: 0.9481 - val_loss: 0.5404 - val_acc: 0.8500\n",
      "Epoch 24/25\n",
      "77/77 [==============================] - 5s 62ms/step - loss: 0.1288 - acc: 0.9740 - val_loss: 0.5347 - val_acc: 0.8500\n",
      "Epoch 25/25\n",
      "77/77 [==============================] - 5s 63ms/step - loss: 0.1097 - acc: 0.9870 - val_loss: 0.5239 - val_acc: 0.8500\n"
     ]
    }
   ],
   "source": [
    "np.random.seed(42)\n",
    "history = model.fit(X_train, y_train,\n",
    "                    epochs=25,\n",
    "                    verbose=True,\n",
    "                    validation_split=0.2,\n",
    "                    batch_size=10)"
   ]
  },
  {
   "cell_type": "markdown",
   "metadata": {},
   "source": [
    "### Here the results of Neural Network training"
   ]
  },
  {
   "cell_type": "code",
   "execution_count": 14,
   "metadata": {},
   "outputs": [
    {
     "data": {
      "image/png": "[encoded data removed]",
      "text/plain": [
       "<Figure size 864x360 with 2 Axes>"
      ]
     },
     "metadata": {},
     "output_type": "display_data"
    }
   ],
   "source": [
    "plot_history(history)"
   ]
  },
  {
   "cell_type": "markdown",
   "metadata": {},
   "source": [
    "### Metrics and Confusion matrix:"
   ]
  },
  {
   "cell_type": "code",
   "execution_count": 19,
   "metadata": {},
   "outputs": [
    {
     "name": "stdout",
     "output_type": "stream",
     "text": [
      "Testing Accuracy:  0.9583\n",
      "Testing Precision:  0.9635\n",
      "Testing Recall:  0.9583\n",
      "Testing F1:  0.9583\n"
     ]
    },
    {
     "data": {
      "image/png": "[encoded data removed]",
      "text/plain": [
       "<Figure size 432x288 with 2 Axes>"
      ]
     },
     "metadata": {},
     "output_type": "display_data"
    }
   ],
   "source": [
    "get_confusion_matrix_metrics(y_test, model.predict(X_test))   "
   ]
  },
  {
   "cell_type": "code",
   "execution_count": 13,
   "metadata": {},
   "outputs": [],
   "source": [
    "def plot_history(history):\n",
    "    acc = history.history['acc']\n",
    "    val_acc = history.history['val_acc']\n",
    "    loss = history.history['loss']\n",
    "    val_loss = history.history['val_loss']\n",
    "    x = range(1, len(acc) + 1)\n",
    "\n",
    "    plt.figure(figsize=(12, 5))\n",
    "    plt.subplot(1, 2, 1)\n",
    "    plt.plot(x, acc, 'b', label='Training acc')\n",
    "    plt.plot(x, val_acc, 'r', label='Validation acc')\n",
    "    plt.title('Training and validation accuracy')\n",
    "    plt.legend()\n",
    "    plt.subplot(1, 2, 2)\n",
    "    plt.plot(x, loss, 'b', label='Training loss')\n",
    "    plt.plot(x, val_loss, 'r', label='Validation loss')\n",
    "    plt.title('Training and validation loss')\n",
    "    plt.legend()"
   ]
  },
  {
   "cell_type": "code",
   "execution_count": 15,
   "metadata": {},
   "outputs": [],
   "source": [
    "def plot_confusion_matrix(cm, classes, title='Confusion matrix', cmap=plt.cm.PuBuGn):\n",
    "    plt.figure()\n",
    "    plt.imshow(cm, interpolation='nearest', cmap=cmap)\n",
    "    plt.title(title)\n",
    "    plt.colorbar()\n",
    "    tick_marks = np.arange(len(classes))\n",
    "    plt.xticks(tick_marks, classes, rotation=45)\n",
    "    plt.yticks(tick_marks, classes)\n",
    "\n",
    "    fmt = 'd'\n",
    "    thresh = cm.max() / 2.\n",
    "    for i, j in itertools.product(range(cm.shape[0]), range(cm.shape[1])):\n",
    "        plt.text(j, i, format(cm[i, j], fmt),\n",
    "                 horizontalalignment=\"center\",\n",
    "                 color=\"white\" if cm[i, j] > thresh else \"black\")\n",
    "\n",
    "    plt.ylabel('True label')\n",
    "    plt.xlabel('Predicted label')\n",
    "    plt.tight_layout()\n",
    "\n",
    "    plt.show()"
   ]
  },
  {
   "cell_type": "code",
   "execution_count": 16,
   "metadata": {},
   "outputs": [],
   "source": [
    "def get_confusion_matrix_metrics(y_test, y_pred):\n",
    "    def get_one_hot(y_softmax):\n",
    "        y_pred = np.zeros_like(y_softmax, dtype=int)\n",
    "        for i in range(len(y_pred)):\n",
    "            target = max(y_softmax[i])\n",
    "            for j in range(len(y_pred[i])):\n",
    "                if y_softmax[i][j]==target:\n",
    "                    y_pred[i][j] = 1\n",
    "        return y_pred\n",
    "\n",
    "    y_pred_2 = get_one_hot(y_pred)\n",
    "    \n",
    "    y_pred_3 = np.argmax(y_pred_2, axis=1)\n",
    "    y_pred_4 = encoder.inverse_transform(y_pred_3)\n",
    "    \n",
    "    y_test_3 = np.argmax(y_test, axis=1)\n",
    "    y_test_4 = encoder.inverse_transform(y_test_3)\n",
    "    \n",
    "    loss, accuracy = model.evaluate(X_test, y_test, verbose=False)\n",
    "    print(\"Testing Accuracy:  {:.4f}\".format(accuracy))\n",
    "    print(\"Testing Precision:  {:.4f}\".format(precision_score(y_test_3, y_pred_3, average='weighted')))\n",
    "    print(\"Testing Recall:  {:.4f}\".format(recall_score(y_test_3, y_pred_3, average='weighted')))\n",
    "    print(\"Testing F1:  {:.4f}\".format(f1_score(y_test_3, y_pred_3, average='weighted')))\n",
    "    \n",
    "    plot_confusion_matrix(confusion_matrix(y_test_4, y_pred_4), np.unique(y_test_4))\n",
    "    "
   ]
  },
  {
   "cell_type": "markdown",
   "metadata": {},
   "source": [
    "## Naive Bayes Classifier"
   ]
  },
  {
   "cell_type": "markdown",
   "metadata": {},
   "source": [
    "### Converting document's text to lists of words"
   ]
  },
  {
   "cell_type": "code",
   "execution_count": 20,
   "metadata": {},
   "outputs": [],
   "source": [
    "split_for_bayes(data)"
   ]
  },
  {
   "cell_type": "code",
   "execution_count": 21,
   "metadata": {},
   "outputs": [],
   "source": [
    "X = data['text']\n",
    "y = data['target']"
   ]
  },
  {
   "cell_type": "code",
   "execution_count": 22,
   "metadata": {},
   "outputs": [],
   "source": [
    "class NaiveBayesClassifier():\n",
    "    \n",
    "    def fit(self, X, y):\n",
    "        doc_counter = Counter(y)\n",
    "        total_doc = len(y)\n",
    "        self.classes = list(set(doc_counter))\n",
    "        \n",
    "        self.doc_frequency = {}\n",
    "        for c_i in self.classes:\n",
    "            self.doc_frequency[c_i] = np.log(doc_counter[c_i] / total_doc)\n",
    "            \n",
    "        self.word_frequency = {c_i: Counter([w_i for d_i in X[y == c_i] for w_i in d_i]) \\\n",
    "                                                                                    for c_i in self.classes}\n",
    "\n",
    "        self.total_uniq_word = len(list(set([w_i for c_j in \\\n",
    "                                             [list(self.word_frequency[c_i]) for c_i in self.word_frequency] \\\n",
    "                                             for w_i in c_j])))\n",
    "        self.words_in_class = {c_i: sum(list(self.word_frequency[c_i].values())) for c_i in self.word_frequency}        \n",
    "            \n",
    "    def tf_idf_compute(self, frequency):\n",
    "        self.tf = {}\n",
    "        for c_i in self.classes:\n",
    "            self.tf[c_i] = Counter()\n",
    "            N = sum(list(frequency[c_i].values()))\n",
    "            for w_i in frequency[c_i]:\n",
    "                self.tf[c_i][w_i] = frequency[c_i][w_i]/float(N)\n",
    "                self.tf[c_i][w_i] *= np.log(len(self.classes)/sum([1 for c_j in self.classes if w_i in frequency[c_j]]))\n",
    "    \n",
    "    def predict(self, X_test):\n",
    "        prediction = pd.DataFrame(columns=self.classes, index=X_test.index)\n",
    "        for i in X_test.index:\n",
    "            for c_i in self.classes:\n",
    "                prediction.loc[i][c_i] = self.doc_frequency[c_i] + \\\n",
    "                sum([np.log((self.word_frequency[c_i][w_i] + 1) / \\\n",
    "                            (self.total_uniq_word + self.words_in_class[c_i])) for w_i in X_test.loc[i]])\n",
    "        \n",
    "        return prediction\n",
    "    \n",
    "    def accuracy(self, y, prediction):\n",
    "        return sum([1 for i in prediction.index \\\n",
    "            if y.loc[i] == list(prediction.loc[i][prediction.loc[i] == max(prediction.loc[i])].index.values)[0]])\\\n",
    "            / y.shape[0]"
   ]
  },
  {
   "cell_type": "markdown",
   "metadata": {},
   "source": [
    "### Using Stratified K-Fold cross validation"
   ]
  },
  {
   "cell_type": "code",
   "execution_count": 24,
   "metadata": {},
   "outputs": [],
   "source": [
    "str_kf = StratifiedKFold(n_splits=4, random_state=7, shuffle=True)\n",
    "result = {'y': [], 'predict': []}\n",
    "for train_index, test_index in str_kf.split(X, y):\n",
    "    X_train, X_test = X[train_index], X[test_index]\n",
    "    y_train, y_test = y[train_index], y[test_index]\n",
    "    nbc = NaiveBayesClassifier()\n",
    "    nbc.fit(X_train, y_train)\n",
    "    predicted = nbc.predict(X_test)\n",
    "    result['y'].append(y_test)\n",
    "    result['predict'].append(predicted)\n",
    "acc = []\n",
    "for i in range(len(result['y'])):\n",
    "    acc.append(nbc.accuracy(result['y'][i], result['predict'][i]))"
   ]
  },
  {
   "cell_type": "markdown",
   "metadata": {},
   "source": [
    "### Here the average accuracy..."
   ]
  },
  {
   "cell_type": "code",
   "execution_count": 25,
   "metadata": {},
   "outputs": [
    {
     "name": "stdout",
     "output_type": "stream",
     "text": [
      "Accuracy of NaiveBayes is 0.9087\n"
     ]
    }
   ],
   "source": [
    "print('Accuracy of NaiveBayes is {:.4f}'.format(sum(acc)/len(acc)))"
   ]
  },
  {
   "cell_type": "code",
   "execution_count": 26,
   "metadata": {},
   "outputs": [],
   "source": [
    "def show_results(r):\n",
    "    matrixes = []\n",
    "    metrics = []\n",
    "    for i in range(len(r['y'])):\n",
    "        matrixes.append(confusion_matrix(r['y'][i], probability_to_class(r['predict'][i])))\n",
    "        metrics.append(calculate_metrics(matrixes[i], np.unique(r['y'][i])))\n",
    "    \n",
    "    return matrixes, metrics\n",
    "\n",
    "def calculate_metrics(confusion_matrix, classes):\n",
    "    metrics = {'precision': [], \n",
    "               'recall': [],\n",
    "               'f1': [],}\n",
    "    for i, col in enumerate(confusion_matrix.columns):\n",
    "        metrics['precision'].append(confusion_matrix.iloc[i][col] / sum(confusion_matrix[col])) \\\n",
    "                if sum(confusion_matrix[col]) != 0 else metrics['precision'].append(0)\n",
    "        metrics['recall'].append(confusion_matrix.iloc[i][col] / sum(confusion_matrix.iloc[i]))\n",
    "        if metrics['precision'][i] + metrics['recall'][i] != 0:\n",
    "            metrics['f1'].append(2.0 * (metrics['precision'][i] * metrics['recall'][i]) / \n",
    "                                 (metrics['precision'][i] + metrics['recall'][i]))\n",
    "        else:\n",
    "            metrics['f1'].append(0)\n",
    "    return pd.DataFrame(data=metrics, index=classes)\n",
    "\n",
    "def probability_to_class(prediction):\n",
    "    prediction_class = pd.Series(index=prediction.index)\n",
    "    for i in prediction.index:\n",
    "        prediction_class.loc[i] = list(prediction.loc[i][prediction.loc[i] == max(prediction.loc[i])].index.values)[0]\n",
    "    return prediction_class\n",
    "\n",
    "def confusion_matrix(y_actual, y_predicted):# both Series type\n",
    "    classes = np.unique(y_actual)\n",
    "    matrix = pd.DataFrame(columns=classes, index=classes)\n",
    "    for actual_class in classes:\n",
    "        for predicted_class in classes:\n",
    "            matrix.loc[actual_class][predicted_class] = len(y_actual[(y_actual==actual_class) & \n",
    "                                                                     (y_predicted==predicted_class)])\n",
    "    indexes = ['Actual_'+i for i in classes]\n",
    "    columns = ['Predicted_'+c for c in classes]\n",
    "    matrix.index = indexes\n",
    "    matrix.columns = columns\n",
    "    return matrix"
   ]
  },
  {
   "cell_type": "code",
   "execution_count": 27,
   "metadata": {},
   "outputs": [],
   "source": [
    "cm, mt = show_results(result)"
   ]
  },
  {
   "cell_type": "markdown",
   "metadata": {},
   "source": [
    "### ... and other results. Confusion matrixes..."
   ]
  },
  {
   "cell_type": "code",
   "execution_count": 28,
   "metadata": {},
   "outputs": [
    {
     "data": {
      "image/png": "[encoded data removed]",
      "text/plain": [
       "<Figure size 432x288 with 2 Axes>"
      ]
     },
     "metadata": {},
     "output_type": "display_data"
    },
    {
     "data": {
      "image/png": "[encoded data removed]",
      "text/plain": [
       "<Figure size 432x288 with 2 Axes>"
      ]
     },
     "metadata": {},
     "output_type": "display_data"
    },
    {
     "data": {
      "image/png": "[encoded data removed]",
      "text/plain": [
       "<Figure size 432x288 with 2 Axes>"
      ]
     },
     "metadata": {},
     "output_type": "display_data"
    },
    {
     "data": {
      "image/png": "[encoded data removed]",
      "text/plain": [
       "<Figure size 432x288 with 2 Axes>"
      ]
     },
     "metadata": {},
     "output_type": "display_data"
    }
   ],
   "source": [
    "for i in cm:\n",
    "    plot_confusion_matrix(np.array(i.values, dtype=int), np.unique(y))"
   ]
  },
  {
   "cell_type": "markdown",
   "metadata": {},
   "source": [
    "### ... and metrics - Precision, Recall, F1"
   ]
  },
  {
   "cell_type": "code",
   "execution_count": 29,
   "metadata": {},
   "outputs": [
    {
     "data": {
      "text/html": [
       "<style  type=\"text/css\" >\n",
       "    #T_0c53c2d2_267c_11e9_85fc_441ca80aac09row0_col0 {\n",
       "            background-color:  #002aea;\n",
       "        }    #T_0c53c2d2_267c_11e9_85fc_441ca80aac09row0_col1 {\n",
       "            background-color:  #00ff80;\n",
       "        }    #T_0c53c2d2_267c_11e9_85fc_441ca80aac09row0_col2 {\n",
       "            background-color:  #00aaaa;\n",
       "        }    #T_0c53c2d2_267c_11e9_85fc_441ca80aac09row1_col0 {\n",
       "            background-color:  #00ff80;\n",
       "        }    #T_0c53c2d2_267c_11e9_85fc_441ca80aac09row1_col1 {\n",
       "            background-color:  #00aaaa;\n",
       "        }    #T_0c53c2d2_267c_11e9_85fc_441ca80aac09row1_col2 {\n",
       "            background-color:  #00c89b;\n",
       "        }    #T_0c53c2d2_267c_11e9_85fc_441ca80aac09row2_col0 {\n",
       "            background-color:  #00ff80;\n",
       "        }    #T_0c53c2d2_267c_11e9_85fc_441ca80aac09row2_col1 {\n",
       "            background-color:  #00ff80;\n",
       "        }    #T_0c53c2d2_267c_11e9_85fc_441ca80aac09row2_col2 {\n",
       "            background-color:  #00ff80;\n",
       "        }    #T_0c53c2d2_267c_11e9_85fc_441ca80aac09row3_col0 {\n",
       "            background-color:  #0000ff;\n",
       "        }    #T_0c53c2d2_267c_11e9_85fc_441ca80aac09row3_col1 {\n",
       "            background-color:  #0000ff;\n",
       "        }    #T_0c53c2d2_267c_11e9_85fc_441ca80aac09row3_col2 {\n",
       "            background-color:  #0000ff;\n",
       "        }    #T_0c53c2d2_267c_11e9_85fc_441ca80aac09row4_col0 {\n",
       "            background-color:  #00ff80;\n",
       "        }    #T_0c53c2d2_267c_11e9_85fc_441ca80aac09row4_col1 {\n",
       "            background-color:  #00ff80;\n",
       "        }    #T_0c53c2d2_267c_11e9_85fc_441ca80aac09row4_col2 {\n",
       "            background-color:  #00ff80;\n",
       "        }</style>  \n",
       "<table id=\"T_0c53c2d2_267c_11e9_85fc_441ca80aac09\" > \n",
       "<thead>    <tr> \n",
       "        <th class=\"blank level0\" ></th> \n",
       "        <th class=\"col_heading level0 col0\" >precision</th> \n",
       "        <th class=\"col_heading level0 col1\" >recall</th> \n",
       "        <th class=\"col_heading level0 col2\" >f1</th> \n",
       "    </tr></thead> \n",
       "<tbody>    <tr> \n",
       "        <th id=\"T_0c53c2d2_267c_11e9_85fc_441ca80aac09level0_row0\" class=\"row_heading level0 row0\" >drama</th> \n",
       "        <td id=\"T_0c53c2d2_267c_11e9_85fc_441ca80aac09row0_col0\" class=\"data row0 col0\" >0.833333</td> \n",
       "        <td id=\"T_0c53c2d2_267c_11e9_85fc_441ca80aac09row0_col1\" class=\"data row0 col1\" >1</td> \n",
       "        <td id=\"T_0c53c2d2_267c_11e9_85fc_441ca80aac09row0_col2\" class=\"data row0 col2\" >0.909091</td> \n",
       "    </tr>    <tr> \n",
       "        <th id=\"T_0c53c2d2_267c_11e9_85fc_441ca80aac09level0_row1\" class=\"row_heading level0 row1\" >erotic</th> \n",
       "        <td id=\"T_0c53c2d2_267c_11e9_85fc_441ca80aac09row1_col0\" class=\"data row1 col0\" >1</td> \n",
       "        <td id=\"T_0c53c2d2_267c_11e9_85fc_441ca80aac09row1_col1\" class=\"data row1 col1\" >0.888889</td> \n",
       "        <td id=\"T_0c53c2d2_267c_11e9_85fc_441ca80aac09row1_col2\" class=\"data row1 col2\" >0.941176</td> \n",
       "    </tr>    <tr> \n",
       "        <th id=\"T_0c53c2d2_267c_11e9_85fc_441ca80aac09level0_row2\" class=\"row_heading level0 row2\" >religion</th> \n",
       "        <td id=\"T_0c53c2d2_267c_11e9_85fc_441ca80aac09row2_col0\" class=\"data row2 col0\" >1</td> \n",
       "        <td id=\"T_0c53c2d2_267c_11e9_85fc_441ca80aac09row2_col1\" class=\"data row2 col1\" >1</td> \n",
       "        <td id=\"T_0c53c2d2_267c_11e9_85fc_441ca80aac09row2_col2\" class=\"data row2 col2\" >1</td> \n",
       "    </tr>    <tr> \n",
       "        <th id=\"T_0c53c2d2_267c_11e9_85fc_441ca80aac09level0_row3\" class=\"row_heading level0 row3\" >songs</th> \n",
       "        <td id=\"T_0c53c2d2_267c_11e9_85fc_441ca80aac09row3_col0\" class=\"data row3 col0\" >0.8</td> \n",
       "        <td id=\"T_0c53c2d2_267c_11e9_85fc_441ca80aac09row3_col1\" class=\"data row3 col1\" >0.666667</td> \n",
       "        <td id=\"T_0c53c2d2_267c_11e9_85fc_441ca80aac09row3_col2\" class=\"data row3 col2\" >0.727273</td> \n",
       "    </tr>    <tr> \n",
       "        <th id=\"T_0c53c2d2_267c_11e9_85fc_441ca80aac09level0_row4\" class=\"row_heading level0 row4\" >teacher</th> \n",
       "        <td id=\"T_0c53c2d2_267c_11e9_85fc_441ca80aac09row4_col0\" class=\"data row4 col0\" >1</td> \n",
       "        <td id=\"T_0c53c2d2_267c_11e9_85fc_441ca80aac09row4_col1\" class=\"data row4 col1\" >1</td> \n",
       "        <td id=\"T_0c53c2d2_267c_11e9_85fc_441ca80aac09row4_col2\" class=\"data row4 col2\" >1</td> \n",
       "    </tr></tbody> \n",
       "</table> "
      ],
      "text/plain": [
       "<pandas.io.formats.style.Styler at 0x7efb8a47b550>"
      ]
     },
     "execution_count": 29,
     "metadata": {},
     "output_type": "execute_result"
    }
   ],
   "source": [
    "mt[0].style.background_gradient(cmap='winter')"
   ]
  },
  {
   "cell_type": "code",
   "execution_count": 30,
   "metadata": {},
   "outputs": [
    {
     "data": {
      "text/html": [
       "<style  type=\"text/css\" >\n",
       "    #T_0c53c2d3_267c_11e9_85fc_441ca80aac09row0_col0 {\n",
       "            background-color:  #00c09f;\n",
       "        }    #T_0c53c2d3_267c_11e9_85fc_441ca80aac09row0_col1 {\n",
       "            background-color:  #00ff80;\n",
       "        }    #T_0c53c2d3_267c_11e9_85fc_441ca80aac09row0_col2 {\n",
       "            background-color:  #00de90;\n",
       "        }    #T_0c53c2d3_267c_11e9_85fc_441ca80aac09row1_col0 {\n",
       "            background-color:  #00ff80;\n",
       "        }    #T_0c53c2d3_267c_11e9_85fc_441ca80aac09row1_col1 {\n",
       "            background-color:  #00fc81;\n",
       "        }    #T_0c53c2d3_267c_11e9_85fc_441ca80aac09row1_col2 {\n",
       "            background-color:  #00ff80;\n",
       "        }    #T_0c53c2d3_267c_11e9_85fc_441ca80aac09row2_col0 {\n",
       "            background-color:  #0000ff;\n",
       "        }    #T_0c53c2d3_267c_11e9_85fc_441ca80aac09row2_col1 {\n",
       "            background-color:  #0000ff;\n",
       "        }    #T_0c53c2d3_267c_11e9_85fc_441ca80aac09row2_col2 {\n",
       "            background-color:  #0000ff;\n",
       "        }    #T_0c53c2d3_267c_11e9_85fc_441ca80aac09row3_col0 {\n",
       "            background-color:  #00aaaa;\n",
       "        }    #T_0c53c2d3_267c_11e9_85fc_441ca80aac09row3_col1 {\n",
       "            background-color:  #00e38e;\n",
       "        }    #T_0c53c2d3_267c_11e9_85fc_441ca80aac09row3_col2 {\n",
       "            background-color:  #00c59c;\n",
       "        }    #T_0c53c2d3_267c_11e9_85fc_441ca80aac09row4_col0 {\n",
       "            background-color:  #00ff80;\n",
       "        }    #T_0c53c2d3_267c_11e9_85fc_441ca80aac09row4_col1 {\n",
       "            background-color:  #00e38e;\n",
       "        }    #T_0c53c2d3_267c_11e9_85fc_441ca80aac09row4_col2 {\n",
       "            background-color:  #00f186;\n",
       "        }</style>  \n",
       "<table id=\"T_0c53c2d3_267c_11e9_85fc_441ca80aac09\" > \n",
       "<thead>    <tr> \n",
       "        <th class=\"blank level0\" ></th> \n",
       "        <th class=\"col_heading level0 col0\" >precision</th> \n",
       "        <th class=\"col_heading level0 col1\" >recall</th> \n",
       "        <th class=\"col_heading level0 col2\" >f1</th> \n",
       "    </tr></thead> \n",
       "<tbody>    <tr> \n",
       "        <th id=\"T_0c53c2d3_267c_11e9_85fc_441ca80aac09level0_row0\" class=\"row_heading level0 row0\" >drama</th> \n",
       "        <td id=\"T_0c53c2d3_267c_11e9_85fc_441ca80aac09row0_col0\" class=\"data row0 col0\" >0.75</td> \n",
       "        <td id=\"T_0c53c2d3_267c_11e9_85fc_441ca80aac09row0_col1\" class=\"data row0 col1\" >0.9</td> \n",
       "        <td id=\"T_0c53c2d3_267c_11e9_85fc_441ca80aac09row0_col2\" class=\"data row0 col2\" >0.818182</td> \n",
       "    </tr>    <tr> \n",
       "        <th id=\"T_0c53c2d3_267c_11e9_85fc_441ca80aac09level0_row1\" class=\"row_heading level0 row1\" >erotic</th> \n",
       "        <td id=\"T_0c53c2d3_267c_11e9_85fc_441ca80aac09row1_col0\" class=\"data row1 col0\" >1</td> \n",
       "        <td id=\"T_0c53c2d3_267c_11e9_85fc_441ca80aac09row1_col1\" class=\"data row1 col1\" >0.888889</td> \n",
       "        <td id=\"T_0c53c2d3_267c_11e9_85fc_441ca80aac09row1_col2\" class=\"data row1 col2\" >0.941176</td> \n",
       "    </tr>    <tr> \n",
       "        <th id=\"T_0c53c2d3_267c_11e9_85fc_441ca80aac09level0_row2\" class=\"row_heading level0 row2\" >religion</th> \n",
       "        <td id=\"T_0c53c2d3_267c_11e9_85fc_441ca80aac09row2_col0\" class=\"data row2 col0\" >0</td> \n",
       "        <td id=\"T_0c53c2d3_267c_11e9_85fc_441ca80aac09row2_col1\" class=\"data row2 col1\" >0</td> \n",
       "        <td id=\"T_0c53c2d3_267c_11e9_85fc_441ca80aac09row2_col2\" class=\"data row2 col2\" >0</td> \n",
       "    </tr>    <tr> \n",
       "        <th id=\"T_0c53c2d3_267c_11e9_85fc_441ca80aac09level0_row3\" class=\"row_heading level0 row3\" >songs</th> \n",
       "        <td id=\"T_0c53c2d3_267c_11e9_85fc_441ca80aac09row3_col0\" class=\"data row3 col0\" >0.666667</td> \n",
       "        <td id=\"T_0c53c2d3_267c_11e9_85fc_441ca80aac09row3_col1\" class=\"data row3 col1\" >0.8</td> \n",
       "        <td id=\"T_0c53c2d3_267c_11e9_85fc_441ca80aac09row3_col2\" class=\"data row3 col2\" >0.727273</td> \n",
       "    </tr>    <tr> \n",
       "        <th id=\"T_0c53c2d3_267c_11e9_85fc_441ca80aac09level0_row4\" class=\"row_heading level0 row4\" >teacher</th> \n",
       "        <td id=\"T_0c53c2d3_267c_11e9_85fc_441ca80aac09row4_col0\" class=\"data row4 col0\" >1</td> \n",
       "        <td id=\"T_0c53c2d3_267c_11e9_85fc_441ca80aac09row4_col1\" class=\"data row4 col1\" >0.8</td> \n",
       "        <td id=\"T_0c53c2d3_267c_11e9_85fc_441ca80aac09row4_col2\" class=\"data row4 col2\" >0.888889</td> \n",
       "    </tr></tbody> \n",
       "</table> "
      ],
      "text/plain": [
       "<pandas.io.formats.style.Styler at 0x7efba4a8b748>"
      ]
     },
     "execution_count": 30,
     "metadata": {},
     "output_type": "execute_result"
    }
   ],
   "source": [
    "mt[1].style.background_gradient(cmap='winter')"
   ]
  },
  {
   "cell_type": "code",
   "execution_count": 31,
   "metadata": {},
   "outputs": [
    {
     "data": {
      "text/html": [
       "<style  type=\"text/css\" >\n",
       "    #T_0c53c2d4_267c_11e9_85fc_441ca80aac09row0_col0 {\n",
       "            background-color:  #00ff80;\n",
       "        }    #T_0c53c2d4_267c_11e9_85fc_441ca80aac09row0_col1 {\n",
       "            background-color:  #00e38e;\n",
       "        }    #T_0c53c2d4_267c_11e9_85fc_441ca80aac09row0_col2 {\n",
       "            background-color:  #00f087;\n",
       "        }    #T_0c53c2d4_267c_11e9_85fc_441ca80aac09row1_col0 {\n",
       "            background-color:  #00ff80;\n",
       "        }    #T_0c53c2d4_267c_11e9_85fc_441ca80aac09row1_col1 {\n",
       "            background-color:  #00ff80;\n",
       "        }    #T_0c53c2d4_267c_11e9_85fc_441ca80aac09row1_col2 {\n",
       "            background-color:  #00ff80;\n",
       "        }    #T_0c53c2d4_267c_11e9_85fc_441ca80aac09row2_col0 {\n",
       "            background-color:  #0000ff;\n",
       "        }    #T_0c53c2d4_267c_11e9_85fc_441ca80aac09row2_col1 {\n",
       "            background-color:  #0000ff;\n",
       "        }    #T_0c53c2d4_267c_11e9_85fc_441ca80aac09row2_col2 {\n",
       "            background-color:  #0000ff;\n",
       "        }    #T_0c53c2d4_267c_11e9_85fc_441ca80aac09row3_col0 {\n",
       "            background-color:  #00b6a4;\n",
       "        }    #T_0c53c2d4_267c_11e9_85fc_441ca80aac09row3_col1 {\n",
       "            background-color:  #00ff80;\n",
       "        }    #T_0c53c2d4_267c_11e9_85fc_441ca80aac09row3_col2 {\n",
       "            background-color:  #00d594;\n",
       "        }    #T_0c53c2d4_267c_11e9_85fc_441ca80aac09row4_col0 {\n",
       "            background-color:  #00ff80;\n",
       "        }    #T_0c53c2d4_267c_11e9_85fc_441ca80aac09row4_col1 {\n",
       "            background-color:  #00ff80;\n",
       "        }    #T_0c53c2d4_267c_11e9_85fc_441ca80aac09row4_col2 {\n",
       "            background-color:  #00ff80;\n",
       "        }</style>  \n",
       "<table id=\"T_0c53c2d4_267c_11e9_85fc_441ca80aac09\" > \n",
       "<thead>    <tr> \n",
       "        <th class=\"blank level0\" ></th> \n",
       "        <th class=\"col_heading level0 col0\" >precision</th> \n",
       "        <th class=\"col_heading level0 col1\" >recall</th> \n",
       "        <th class=\"col_heading level0 col2\" >f1</th> \n",
       "    </tr></thead> \n",
       "<tbody>    <tr> \n",
       "        <th id=\"T_0c53c2d4_267c_11e9_85fc_441ca80aac09level0_row0\" class=\"row_heading level0 row0\" >drama</th> \n",
       "        <td id=\"T_0c53c2d4_267c_11e9_85fc_441ca80aac09row0_col0\" class=\"data row0 col0\" >1</td> \n",
       "        <td id=\"T_0c53c2d4_267c_11e9_85fc_441ca80aac09row0_col1\" class=\"data row0 col1\" >0.888889</td> \n",
       "        <td id=\"T_0c53c2d4_267c_11e9_85fc_441ca80aac09row0_col2\" class=\"data row0 col2\" >0.941176</td> \n",
       "    </tr>    <tr> \n",
       "        <th id=\"T_0c53c2d4_267c_11e9_85fc_441ca80aac09level0_row1\" class=\"row_heading level0 row1\" >erotic</th> \n",
       "        <td id=\"T_0c53c2d4_267c_11e9_85fc_441ca80aac09row1_col0\" class=\"data row1 col0\" >1</td> \n",
       "        <td id=\"T_0c53c2d4_267c_11e9_85fc_441ca80aac09row1_col1\" class=\"data row1 col1\" >1</td> \n",
       "        <td id=\"T_0c53c2d4_267c_11e9_85fc_441ca80aac09row1_col2\" class=\"data row1 col2\" >1</td> \n",
       "    </tr>    <tr> \n",
       "        <th id=\"T_0c53c2d4_267c_11e9_85fc_441ca80aac09level0_row2\" class=\"row_heading level0 row2\" >religion</th> \n",
       "        <td id=\"T_0c53c2d4_267c_11e9_85fc_441ca80aac09row2_col0\" class=\"data row2 col0\" >0</td> \n",
       "        <td id=\"T_0c53c2d4_267c_11e9_85fc_441ca80aac09row2_col1\" class=\"data row2 col1\" >0</td> \n",
       "        <td id=\"T_0c53c2d4_267c_11e9_85fc_441ca80aac09row2_col2\" class=\"data row2 col2\" >0</td> \n",
       "    </tr>    <tr> \n",
       "        <th id=\"T_0c53c2d4_267c_11e9_85fc_441ca80aac09level0_row3\" class=\"row_heading level0 row3\" >songs</th> \n",
       "        <td id=\"T_0c53c2d4_267c_11e9_85fc_441ca80aac09row3_col0\" class=\"data row3 col0\" >0.714286</td> \n",
       "        <td id=\"T_0c53c2d4_267c_11e9_85fc_441ca80aac09row3_col1\" class=\"data row3 col1\" >1</td> \n",
       "        <td id=\"T_0c53c2d4_267c_11e9_85fc_441ca80aac09row3_col2\" class=\"data row3 col2\" >0.833333</td> \n",
       "    </tr>    <tr> \n",
       "        <th id=\"T_0c53c2d4_267c_11e9_85fc_441ca80aac09level0_row4\" class=\"row_heading level0 row4\" >teacher</th> \n",
       "        <td id=\"T_0c53c2d4_267c_11e9_85fc_441ca80aac09row4_col0\" class=\"data row4 col0\" >1</td> \n",
       "        <td id=\"T_0c53c2d4_267c_11e9_85fc_441ca80aac09row4_col1\" class=\"data row4 col1\" >1</td> \n",
       "        <td id=\"T_0c53c2d4_267c_11e9_85fc_441ca80aac09row4_col2\" class=\"data row4 col2\" >1</td> \n",
       "    </tr></tbody> \n",
       "</table> "
      ],
      "text/plain": [
       "<pandas.io.formats.style.Styler at 0x7efb89ec1be0>"
      ]
     },
     "execution_count": 31,
     "metadata": {},
     "output_type": "execute_result"
    }
   ],
   "source": [
    "mt[2].style.background_gradient(cmap='winter')"
   ]
  },
  {
   "cell_type": "code",
   "execution_count": 32,
   "metadata": {},
   "outputs": [
    {
     "data": {
      "text/html": [
       "<style  type=\"text/css\" >\n",
       "    #T_0c53c2d5_267c_11e9_85fc_441ca80aac09row0_col0 {\n",
       "            background-color:  #00ff80;\n",
       "        }    #T_0c53c2d5_267c_11e9_85fc_441ca80aac09row0_col1 {\n",
       "            background-color:  #00ff80;\n",
       "        }    #T_0c53c2d5_267c_11e9_85fc_441ca80aac09row0_col2 {\n",
       "            background-color:  #00ff80;\n",
       "        }    #T_0c53c2d5_267c_11e9_85fc_441ca80aac09row1_col0 {\n",
       "            background-color:  #00ff80;\n",
       "        }    #T_0c53c2d5_267c_11e9_85fc_441ca80aac09row1_col1 {\n",
       "            background-color:  #00ff80;\n",
       "        }    #T_0c53c2d5_267c_11e9_85fc_441ca80aac09row1_col2 {\n",
       "            background-color:  #00ff80;\n",
       "        }    #T_0c53c2d5_267c_11e9_85fc_441ca80aac09row2_col0 {\n",
       "            background-color:  #00ff80;\n",
       "        }    #T_0c53c2d5_267c_11e9_85fc_441ca80aac09row2_col1 {\n",
       "            background-color:  #00ff80;\n",
       "        }    #T_0c53c2d5_267c_11e9_85fc_441ca80aac09row2_col2 {\n",
       "            background-color:  #00ff80;\n",
       "        }    #T_0c53c2d5_267c_11e9_85fc_441ca80aac09row3_col0 {\n",
       "            background-color:  #0000ff;\n",
       "        }    #T_0c53c2d5_267c_11e9_85fc_441ca80aac09row3_col1 {\n",
       "            background-color:  #00ff80;\n",
       "        }    #T_0c53c2d5_267c_11e9_85fc_441ca80aac09row3_col2 {\n",
       "            background-color:  #002ee8;\n",
       "        }    #T_0c53c2d5_267c_11e9_85fc_441ca80aac09row4_col0 {\n",
       "            background-color:  #00ff80;\n",
       "        }    #T_0c53c2d5_267c_11e9_85fc_441ca80aac09row4_col1 {\n",
       "            background-color:  #0000ff;\n",
       "        }    #T_0c53c2d5_267c_11e9_85fc_441ca80aac09row4_col2 {\n",
       "            background-color:  #0000ff;\n",
       "        }</style>  \n",
       "<table id=\"T_0c53c2d5_267c_11e9_85fc_441ca80aac09\" > \n",
       "<thead>    <tr> \n",
       "        <th class=\"blank level0\" ></th> \n",
       "        <th class=\"col_heading level0 col0\" >precision</th> \n",
       "        <th class=\"col_heading level0 col1\" >recall</th> \n",
       "        <th class=\"col_heading level0 col2\" >f1</th> \n",
       "    </tr></thead> \n",
       "<tbody>    <tr> \n",
       "        <th id=\"T_0c53c2d5_267c_11e9_85fc_441ca80aac09level0_row0\" class=\"row_heading level0 row0\" >drama</th> \n",
       "        <td id=\"T_0c53c2d5_267c_11e9_85fc_441ca80aac09row0_col0\" class=\"data row0 col0\" >1</td> \n",
       "        <td id=\"T_0c53c2d5_267c_11e9_85fc_441ca80aac09row0_col1\" class=\"data row0 col1\" >1</td> \n",
       "        <td id=\"T_0c53c2d5_267c_11e9_85fc_441ca80aac09row0_col2\" class=\"data row0 col2\" >1</td> \n",
       "    </tr>    <tr> \n",
       "        <th id=\"T_0c53c2d5_267c_11e9_85fc_441ca80aac09level0_row1\" class=\"row_heading level0 row1\" >erotic</th> \n",
       "        <td id=\"T_0c53c2d5_267c_11e9_85fc_441ca80aac09row1_col0\" class=\"data row1 col0\" >1</td> \n",
       "        <td id=\"T_0c53c2d5_267c_11e9_85fc_441ca80aac09row1_col1\" class=\"data row1 col1\" >1</td> \n",
       "        <td id=\"T_0c53c2d5_267c_11e9_85fc_441ca80aac09row1_col2\" class=\"data row1 col2\" >1</td> \n",
       "    </tr>    <tr> \n",
       "        <th id=\"T_0c53c2d5_267c_11e9_85fc_441ca80aac09level0_row2\" class=\"row_heading level0 row2\" >religion</th> \n",
       "        <td id=\"T_0c53c2d5_267c_11e9_85fc_441ca80aac09row2_col0\" class=\"data row2 col0\" >1</td> \n",
       "        <td id=\"T_0c53c2d5_267c_11e9_85fc_441ca80aac09row2_col1\" class=\"data row2 col1\" >1</td> \n",
       "        <td id=\"T_0c53c2d5_267c_11e9_85fc_441ca80aac09row2_col2\" class=\"data row2 col2\" >1</td> \n",
       "    </tr>    <tr> \n",
       "        <th id=\"T_0c53c2d5_267c_11e9_85fc_441ca80aac09level0_row3\" class=\"row_heading level0 row3\" >songs</th> \n",
       "        <td id=\"T_0c53c2d5_267c_11e9_85fc_441ca80aac09row3_col0\" class=\"data row3 col0\" >0.833333</td> \n",
       "        <td id=\"T_0c53c2d5_267c_11e9_85fc_441ca80aac09row3_col1\" class=\"data row3 col1\" >1</td> \n",
       "        <td id=\"T_0c53c2d5_267c_11e9_85fc_441ca80aac09row3_col2\" class=\"data row3 col2\" >0.909091</td> \n",
       "    </tr>    <tr> \n",
       "        <th id=\"T_0c53c2d5_267c_11e9_85fc_441ca80aac09level0_row4\" class=\"row_heading level0 row4\" >teacher</th> \n",
       "        <td id=\"T_0c53c2d5_267c_11e9_85fc_441ca80aac09row4_col0\" class=\"data row4 col0\" >1</td> \n",
       "        <td id=\"T_0c53c2d5_267c_11e9_85fc_441ca80aac09row4_col1\" class=\"data row4 col1\" >0.8</td> \n",
       "        <td id=\"T_0c53c2d5_267c_11e9_85fc_441ca80aac09row4_col2\" class=\"data row4 col2\" >0.888889</td> \n",
       "    </tr></tbody> \n",
       "</table> "
      ],
      "text/plain": [
       "<pandas.io.formats.style.Styler at 0x7efb89ec1908>"
      ]
     },
     "execution_count": 32,
     "metadata": {},
     "output_type": "execute_result"
    }
   ],
   "source": [
    "mt[3].style.background_gradient(cmap='winter')"
   ]
  },
  {
   "cell_type": "markdown",
   "metadata": {},
   "source": [
    "## Conclusion"
   ]
  },
  {
   "cell_type": "markdown",
   "metadata": {},
   "source": [
    "Deep Neural Network shows the best results, its metrics are higher than Naive Bayes's, but NN is more sentitive to the data. Both models had problems with classes, which have the least number of documents."
   ]
  }
 ],
 "metadata": {
  "kernelspec": {
   "display_name": "Python 3",
   "language": "python",
   "name": "python3"
  },
  "language_info": {
   "codemirror_mode": {
    "name": "ipython",
    "version": 3
   },
   "file_extension": ".py",
   "mimetype": "text/x-python",
   "name": "python",
   "nbconvert_exporter": "python",
   "pygments_lexer": "ipython3",
   "version": "3.6.5"
  }
 },
 "nbformat": 4,
 "nbformat_minor": 2
}
